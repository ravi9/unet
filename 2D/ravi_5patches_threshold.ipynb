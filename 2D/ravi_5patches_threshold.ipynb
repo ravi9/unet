{
 "cells": [
  {
   "cell_type": "code",
   "execution_count": null,
   "metadata": {},
   "outputs": [],
   "source": []
  },
  {
   "cell_type": "code",
   "execution_count": 21,
   "metadata": {},
   "outputs": [],
   "source": [
    "# def calc_hard_dice(y_true, y_pred):\n",
    "#     numerator = 2.0 * np.sum(np.round(y_true)*np.round(y_pred))\n",
    "#     denominator = np.sum(np.round(y_true)) + np.sum(np.round(y_pred))\n",
    "#     if denominator == 0:\n",
    "#        return 1.0\n",
    "#     else:\n",
    "#        return numerator / denominator\n",
    "\n",
    "# def calc_dice(y_true, y_pred, smooth=1):\n",
    "#     \"\"\"\n",
    "#     Sorensen Dice coefficient\n",
    "#     \"\"\"\n",
    "#     numerator = 2.0 * np.sum(y_true * y_pred) + smooth\n",
    "#     denominator = np.sum(y_true) + np.sum(y_pred) + smooth\n",
    "#     coef = numerator / denominator\n",
    "    \n",
    "#     print (numerator, denominator, coef)\n",
    "\n",
    "#     return coef\n",
    "\n",
    "def calc_hard_dice(y_true, y_pred):\n",
    "    y_true = y_true.flatten()\n",
    "    y_pred = y_pred.flatten()\n",
    "    \n",
    "    numerator = 2.0 * np.sum(np.round(y_true)*np.round(y_pred))\n",
    "    denominator = np.sum(np.round(y_true)) + np.sum(np.round(y_pred))\n",
    "    if denominator == 0:\n",
    "       return 1.0\n",
    "    else:\n",
    "       return numerator / denominator\n",
    "\n",
    "def calc_dice(y_true, y_pred, smooth=1):\n",
    "    \"\"\"\n",
    "    Sorensen Dice coefficient\n",
    "    \"\"\"\n",
    "    y_true = y_true.flatten()\n",
    "    y_pred = y_pred.flatten()\n",
    "    \n",
    "    numerator = 2.0 * np.sum(y_true * y_pred) + smooth\n",
    "    denominator = np.sum(y_true) + np.sum(y_pred) + smooth\n",
    "    coef = numerator / denominator\n",
    "\n",
    "    return coef\n",
    "\n",
    "def dice_coef(y_true, y_pred, axis=(1, 2), smooth=1):\n",
    "    \"\"\"\n",
    "    Sorenson (Soft) Dice\n",
    "    \\frac{  2 \\times \\left | T \\right | \\cap \\left | P \\right |}{ \\left | T \\right | +  \\left | P \\right |  }\n",
    "    where T is ground truth mask and P is the prediction mask\n",
    "    \"\"\"\n",
    "    intersection = tf.reduce_sum(y_true * y_pred, axis=axis)\n",
    "    union = tf.reduce_sum(y_true + y_pred, axis=axis)\n",
    "    numerator = tf.constant(2.) * intersection + smooth\n",
    "    denominator = union + smooth\n",
    "    coef = numerator / denominator\n",
    "\n",
    "    return tf.reduce_mean(coef)\n",
    "\n",
    "\n",
    "def dice_coef_loss(target, prediction, axis=(1, 2), smooth=1.):\n",
    "    \"\"\"\n",
    "    Sorenson (Soft) Dice loss\n",
    "    Using -log(Dice) as the loss since it is better behaved.\n",
    "    Also, the log allows avoidance of the division which\n",
    "    can help prevent underflow when the numbers are very small.\n",
    "    \"\"\"\n",
    "    intersection = tf.reduce_sum(prediction * target, axis=axis)\n",
    "    p = tf.reduce_sum(prediction, axis=axis)\n",
    "    t = tf.reduce_sum(target, axis=axis)\n",
    "    numerator = tf.reduce_mean(intersection + smooth)\n",
    "    denominator = tf.reduce_mean(t + p + smooth)\n",
    "    dice_loss = -tf.log(2.*numerator) + tf.log(denominator)\n",
    "\n",
    "    return dice_loss\n",
    "\n",
    "\n",
    "def combined_dice_ce_loss(y_true, y_pred, axis=(1, 2), smooth=1.,\n",
    "                          weight=0.9):\n",
    "    \"\"\"\n",
    "    Combined Dice and Binary Cross Entropy Loss\n",
    "    \"\"\"\n",
    "    return weight*dice_coef_loss(y_true, y_pred, axis, smooth) + \\\n",
    "        (1-weight)*K.losses.binary_crossentropy(y_true, y_pred)\n",
    "\n",
    "\n",
    "def plot_results(model, imgs_validation, msks_validation, img_no, png_directory):\n",
    "    \"\"\"\n",
    "    Calculate the Dice and plot the predicted masks for image # img_no\n",
    "    \"\"\"\n",
    "\n",
    "    img = imgs_validation[[img_no], ]\n",
    "    msk = msks_validation[[img_no], ]\n",
    "\n",
    "    pred_mask = model.predict(img)\n",
    "\n",
    "    dice_score = calc_dice(pred_mask, msk)\n",
    "\n",
    "    print(\"{:.4f}, {:.4f}\".format(dice_score, calc_hard_dice(pred_mask, msk)))\n"
   ]
  },
  {
   "cell_type": "code",
   "execution_count": 30,
   "metadata": {},
   "outputs": [
    {
     "name": "stdout",
     "output_type": "stream",
     "text": [
      "Loading Data... \n",
      "Data loaded successfully from: /home/bduser/tony/data/decathlon/240x240/decathlon_brats.h5\n",
      "Loading Model... \n"
     ]
    },
    {
     "ename": "OSError",
     "evalue": "Unable to open file (unable to open file: name = '/home/bduser/tony/unet_tiling/unet_decathlon_4_8814_128x128_randomcrop-fullimg.hdf5', errno = 2, error message = 'No such file or directory', flags = 0, o_flags = 0)",
     "output_type": "error",
     "traceback": [
      "\u001b[0;31m---------------------------------------------------------------------------\u001b[0m",
      "\u001b[0;31mOSError\u001b[0m                                   Traceback (most recent call last)",
      "\u001b[0;32m<ipython-input-30-011fbf339005>\u001b[0m in \u001b[0;36m<module>\u001b[0;34m\u001b[0m\n\u001b[1;32m     58\u001b[0m     \u001b[0;34m\"combined_dice_ce_loss\"\u001b[0m\u001b[0;34m:\u001b[0m \u001b[0mcombined_dice_ce_loss\u001b[0m\u001b[0;34m,\u001b[0m\u001b[0;34m\u001b[0m\u001b[0;34m\u001b[0m\u001b[0m\n\u001b[1;32m     59\u001b[0m     \u001b[0;34m\"dice_coef_loss\"\u001b[0m\u001b[0;34m:\u001b[0m \u001b[0mdice_coef_loss\u001b[0m\u001b[0;34m,\u001b[0m\u001b[0;34m\u001b[0m\u001b[0;34m\u001b[0m\u001b[0m\n\u001b[0;32m---> 60\u001b[0;31m     \"dice_coef\": dice_coef})\n\u001b[0m\u001b[1;32m     61\u001b[0m \u001b[0mprint\u001b[0m\u001b[0;34m(\u001b[0m\u001b[0;34m\"Model loaded successfully from: \"\u001b[0m \u001b[0;34m+\u001b[0m \u001b[0mmodel_fn\u001b[0m\u001b[0;34m)\u001b[0m\u001b[0;34m\u001b[0m\u001b[0;34m\u001b[0m\u001b[0m\n\u001b[1;32m     62\u001b[0m \u001b[0;34m\u001b[0m\u001b[0m\n",
      "\u001b[0;32m~/anaconda3/envs/ravi-decathlon/lib/python3.6/site-packages/keras/engine/saving.py\u001b[0m in \u001b[0;36mload_model\u001b[0;34m(filepath, custom_objects, compile)\u001b[0m\n\u001b[1;32m    415\u001b[0m     \u001b[0mmodel\u001b[0m \u001b[0;34m=\u001b[0m \u001b[0;32mNone\u001b[0m\u001b[0;34m\u001b[0m\u001b[0;34m\u001b[0m\u001b[0m\n\u001b[1;32m    416\u001b[0m     \u001b[0mopened_new_file\u001b[0m \u001b[0;34m=\u001b[0m \u001b[0;32mnot\u001b[0m \u001b[0misinstance\u001b[0m\u001b[0;34m(\u001b[0m\u001b[0mfilepath\u001b[0m\u001b[0;34m,\u001b[0m \u001b[0mh5py\u001b[0m\u001b[0;34m.\u001b[0m\u001b[0mGroup\u001b[0m\u001b[0;34m)\u001b[0m\u001b[0;34m\u001b[0m\u001b[0;34m\u001b[0m\u001b[0m\n\u001b[0;32m--> 417\u001b[0;31m     \u001b[0mf\u001b[0m \u001b[0;34m=\u001b[0m \u001b[0mh5dict\u001b[0m\u001b[0;34m(\u001b[0m\u001b[0mfilepath\u001b[0m\u001b[0;34m,\u001b[0m \u001b[0;34m'r'\u001b[0m\u001b[0;34m)\u001b[0m\u001b[0;34m\u001b[0m\u001b[0;34m\u001b[0m\u001b[0m\n\u001b[0m\u001b[1;32m    418\u001b[0m     \u001b[0;32mtry\u001b[0m\u001b[0;34m:\u001b[0m\u001b[0;34m\u001b[0m\u001b[0;34m\u001b[0m\u001b[0m\n\u001b[1;32m    419\u001b[0m         \u001b[0mmodel\u001b[0m \u001b[0;34m=\u001b[0m \u001b[0m_deserialize_model\u001b[0m\u001b[0;34m(\u001b[0m\u001b[0mf\u001b[0m\u001b[0;34m,\u001b[0m \u001b[0mcustom_objects\u001b[0m\u001b[0;34m,\u001b[0m \u001b[0mcompile\u001b[0m\u001b[0;34m)\u001b[0m\u001b[0;34m\u001b[0m\u001b[0;34m\u001b[0m\u001b[0m\n",
      "\u001b[0;32m~/anaconda3/envs/ravi-decathlon/lib/python3.6/site-packages/keras/utils/io_utils.py\u001b[0m in \u001b[0;36m__init__\u001b[0;34m(self, path, mode)\u001b[0m\n\u001b[1;32m    184\u001b[0m             \u001b[0mself\u001b[0m\u001b[0;34m.\u001b[0m\u001b[0m_is_file\u001b[0m \u001b[0;34m=\u001b[0m \u001b[0;32mFalse\u001b[0m\u001b[0;34m\u001b[0m\u001b[0;34m\u001b[0m\u001b[0m\n\u001b[1;32m    185\u001b[0m         \u001b[0;32melif\u001b[0m \u001b[0misinstance\u001b[0m\u001b[0;34m(\u001b[0m\u001b[0mpath\u001b[0m\u001b[0;34m,\u001b[0m \u001b[0mstr\u001b[0m\u001b[0;34m)\u001b[0m\u001b[0;34m:\u001b[0m\u001b[0;34m\u001b[0m\u001b[0;34m\u001b[0m\u001b[0m\n\u001b[0;32m--> 186\u001b[0;31m             \u001b[0mself\u001b[0m\u001b[0;34m.\u001b[0m\u001b[0mdata\u001b[0m \u001b[0;34m=\u001b[0m \u001b[0mh5py\u001b[0m\u001b[0;34m.\u001b[0m\u001b[0mFile\u001b[0m\u001b[0;34m(\u001b[0m\u001b[0mpath\u001b[0m\u001b[0;34m,\u001b[0m \u001b[0mmode\u001b[0m\u001b[0;34m=\u001b[0m\u001b[0mmode\u001b[0m\u001b[0;34m)\u001b[0m\u001b[0;34m\u001b[0m\u001b[0;34m\u001b[0m\u001b[0m\n\u001b[0m\u001b[1;32m    187\u001b[0m             \u001b[0mself\u001b[0m\u001b[0;34m.\u001b[0m\u001b[0m_is_file\u001b[0m \u001b[0;34m=\u001b[0m \u001b[0;32mTrue\u001b[0m\u001b[0;34m\u001b[0m\u001b[0;34m\u001b[0m\u001b[0m\n\u001b[1;32m    188\u001b[0m         \u001b[0;32melif\u001b[0m \u001b[0misinstance\u001b[0m\u001b[0;34m(\u001b[0m\u001b[0mpath\u001b[0m\u001b[0;34m,\u001b[0m \u001b[0mdict\u001b[0m\u001b[0;34m)\u001b[0m\u001b[0;34m:\u001b[0m\u001b[0;34m\u001b[0m\u001b[0;34m\u001b[0m\u001b[0m\n",
      "\u001b[0;32m~/anaconda3/envs/ravi-decathlon/lib/python3.6/site-packages/h5py/_hl/files.py\u001b[0m in \u001b[0;36m__init__\u001b[0;34m(self, name, mode, driver, libver, userblock_size, swmr, rdcc_nslots, rdcc_nbytes, rdcc_w0, track_order, **kwds)\u001b[0m\n\u001b[1;32m    392\u001b[0m                 fid = make_fid(name, mode, userblock_size,\n\u001b[1;32m    393\u001b[0m                                \u001b[0mfapl\u001b[0m\u001b[0;34m,\u001b[0m \u001b[0mfcpl\u001b[0m\u001b[0;34m=\u001b[0m\u001b[0mmake_fcpl\u001b[0m\u001b[0;34m(\u001b[0m\u001b[0mtrack_order\u001b[0m\u001b[0;34m=\u001b[0m\u001b[0mtrack_order\u001b[0m\u001b[0;34m)\u001b[0m\u001b[0;34m,\u001b[0m\u001b[0;34m\u001b[0m\u001b[0;34m\u001b[0m\u001b[0m\n\u001b[0;32m--> 394\u001b[0;31m                                swmr=swmr)\n\u001b[0m\u001b[1;32m    395\u001b[0m \u001b[0;34m\u001b[0m\u001b[0m\n\u001b[1;32m    396\u001b[0m             \u001b[0;32mif\u001b[0m \u001b[0mswmr_support\u001b[0m\u001b[0;34m:\u001b[0m\u001b[0;34m\u001b[0m\u001b[0;34m\u001b[0m\u001b[0m\n",
      "\u001b[0;32m~/anaconda3/envs/ravi-decathlon/lib/python3.6/site-packages/h5py/_hl/files.py\u001b[0m in \u001b[0;36mmake_fid\u001b[0;34m(name, mode, userblock_size, fapl, fcpl, swmr)\u001b[0m\n\u001b[1;32m    168\u001b[0m         \u001b[0;32mif\u001b[0m \u001b[0mswmr\u001b[0m \u001b[0;32mand\u001b[0m \u001b[0mswmr_support\u001b[0m\u001b[0;34m:\u001b[0m\u001b[0;34m\u001b[0m\u001b[0;34m\u001b[0m\u001b[0m\n\u001b[1;32m    169\u001b[0m             \u001b[0mflags\u001b[0m \u001b[0;34m|=\u001b[0m \u001b[0mh5f\u001b[0m\u001b[0;34m.\u001b[0m\u001b[0mACC_SWMR_READ\u001b[0m\u001b[0;34m\u001b[0m\u001b[0;34m\u001b[0m\u001b[0m\n\u001b[0;32m--> 170\u001b[0;31m         \u001b[0mfid\u001b[0m \u001b[0;34m=\u001b[0m \u001b[0mh5f\u001b[0m\u001b[0;34m.\u001b[0m\u001b[0mopen\u001b[0m\u001b[0;34m(\u001b[0m\u001b[0mname\u001b[0m\u001b[0;34m,\u001b[0m \u001b[0mflags\u001b[0m\u001b[0;34m,\u001b[0m \u001b[0mfapl\u001b[0m\u001b[0;34m=\u001b[0m\u001b[0mfapl\u001b[0m\u001b[0;34m)\u001b[0m\u001b[0;34m\u001b[0m\u001b[0;34m\u001b[0m\u001b[0m\n\u001b[0m\u001b[1;32m    171\u001b[0m     \u001b[0;32melif\u001b[0m \u001b[0mmode\u001b[0m \u001b[0;34m==\u001b[0m \u001b[0;34m'r+'\u001b[0m\u001b[0;34m:\u001b[0m\u001b[0;34m\u001b[0m\u001b[0;34m\u001b[0m\u001b[0m\n\u001b[1;32m    172\u001b[0m         \u001b[0mfid\u001b[0m \u001b[0;34m=\u001b[0m \u001b[0mh5f\u001b[0m\u001b[0;34m.\u001b[0m\u001b[0mopen\u001b[0m\u001b[0;34m(\u001b[0m\u001b[0mname\u001b[0m\u001b[0;34m,\u001b[0m \u001b[0mh5f\u001b[0m\u001b[0;34m.\u001b[0m\u001b[0mACC_RDWR\u001b[0m\u001b[0;34m,\u001b[0m \u001b[0mfapl\u001b[0m\u001b[0;34m=\u001b[0m\u001b[0mfapl\u001b[0m\u001b[0;34m)\u001b[0m\u001b[0;34m\u001b[0m\u001b[0;34m\u001b[0m\u001b[0m\n",
      "\u001b[0;32mh5py/_objects.pyx\u001b[0m in \u001b[0;36mh5py._objects.with_phil.wrapper\u001b[0;34m()\u001b[0m\n",
      "\u001b[0;32mh5py/_objects.pyx\u001b[0m in \u001b[0;36mh5py._objects.with_phil.wrapper\u001b[0;34m()\u001b[0m\n",
      "\u001b[0;32mh5py/h5f.pyx\u001b[0m in \u001b[0;36mh5py.h5f.open\u001b[0;34m()\u001b[0m\n",
      "\u001b[0;31mOSError\u001b[0m: Unable to open file (unable to open file: name = '/home/bduser/tony/unet_tiling/unet_decathlon_4_8814_128x128_randomcrop-fullimg.hdf5', errno = 2, error message = 'No such file or directory', flags = 0, o_flags = 0)"
     ]
    }
   ],
   "source": [
    "# parser = argparse.ArgumentParser(\n",
    "#     description=\"Inference example for trained 2D U-Net model on BraTS.\",\n",
    "#     add_help=True, formatter_class=argparse.ArgumentDefaultsHelpFormatter)\n",
    "\n",
    "# parser.add_argument(\"--data_path\", default=settings.DATA_PATH,\n",
    "#                     help=\"the path to the data\")\n",
    "# parser.add_argument(\"--data_filename\", default=settings.DATA_FILENAME,\n",
    "#                     help=\"the HDF5 data filename\")\n",
    "# parser.add_argument(\"--output_path\", default=settings.OUT_PATH,\n",
    "#                     help=\"the folder to save the model and checkpoints\")\n",
    "# parser.add_argument(\"--inference_filename\", default=settings.INFERENCE_FILENAME,\n",
    "#                     help=\"the Keras inference model filename\")\n",
    "\n",
    "# parser.add_argument(\"--intraop_threads\", default=settings.NUM_INTRA_THREADS,\n",
    "#                     type=int, help=\"Number of intra-op-parallelism threads\")\n",
    "# parser.add_argument(\"--interop_threads\", default=settings.NUM_INTER_THREADS,\n",
    "#                     type=int, help=\"Number of inter-op-parallelism threads\")\n",
    "import os\n",
    "\n",
    "import numpy as np\n",
    "import tensorflow as tf\n",
    "import keras as K\n",
    "import settings\n",
    "import argparse\n",
    "import h5py\n",
    "\n",
    "import matplotlib.pyplot as plt\n",
    "\n",
    "args = argparse.Namespace()\n",
    "args.data_path=\"/home/bduser/tony/data/decathlon/\"\n",
    "args.data_filename=\"240x240/decathlon_brats.h5\"\n",
    "args.output_path=\"/home/bduser/tony/unet_tiling/\"\n",
    "args.inference_filename=\"unet_decathlon_4_8814_128x128_randomcrop.hdf5\"\n",
    "args.inference_filename=\"unet_decathlon_4_8814_128x128_randomcrop-fullimg.hdf5\"\n",
    "args.intraop_threads=5\n",
    "args.interop_threads=2\n",
    "\n",
    "CONFIG = tf.ConfigProto(\n",
    "    inter_op_parallelism_threads=args.interop_threads,\n",
    "    intra_op_parallelism_threads=args.intraop_threads)\n",
    "\n",
    "SESS = tf.Session(config=CONFIG)\n",
    "K.backend.set_session(SESS)\n",
    "\n",
    "data_fn = os.path.join(args.data_path, args.data_filename)\n",
    "model_fn = os.path.join(args.output_path, args.inference_filename)\n",
    "\n",
    "# Load data\n",
    "print(\"Loading Data... \")\n",
    "df = h5py.File(data_fn, \"r\")\n",
    "imgs_validation = df[\"imgs_validation\"]\n",
    "msks_validation = df[\"msks_validation\"]\n",
    "print(\"Data loaded successfully from: \" + data_fn)\n",
    "\n",
    "# Load model\n",
    "print(\"Loading Model... \")\n",
    "model = K.models.load_model(model_fn, custom_objects={\n",
    "    \"combined_dice_ce_loss\": combined_dice_ce_loss,\n",
    "    \"dice_coef_loss\": dice_coef_loss,\n",
    "    \"dice_coef\": dice_coef})\n",
    "print(\"Model loaded successfully from: \" + model_fn)\n",
    "\n",
    "# Create output directory for images\n",
    "png_directory = \"inference_examples\"\n",
    "if not os.path.exists(png_directory):\n",
    "    os.makedirs(png_directory)\n",
    "\n",
    "# Plot some results\n",
    "# The plots will be saved to the png_directory\n",
    "# Just picking some random samples.\n",
    "indicies_validation = [40, 61, 400, 1100, 4385,\n",
    "                       5566, 5673, 6433, 7864, 8899, 9003, 9722, 10591]\n",
    "\n",
    "\n"
   ]
  },
  {
   "cell_type": "code",
   "execution_count": 23,
   "metadata": {},
   "outputs": [
    {
     "name": "stdout",
     "output_type": "stream",
     "text": [
      "Number of validation images:  12090\n"
     ]
    }
   ],
   "source": [
    "\n",
    "print(\"Number of validation images: \", imgs_validation.shape[0])"
   ]
  },
  {
   "cell_type": "code",
   "execution_count": 29,
   "metadata": {},
   "outputs": [
    {
     "data": {
      "text/plain": [
       "<KeysViewHDF5 ['description', 'imgs_train', 'imgs_validation', 'license', 'modalities', 'msks_train', 'msks_validation', 'name', 'reference', 'release', 'tensorImageSize', 'training_input_files', 'training_label_files', 'validation_input_files', 'validation_label_files']>"
      ]
     },
     "execution_count": 29,
     "metadata": {},
     "output_type": "execute_result"
    }
   ],
   "source": [
    "full_img = msks_validation[[10], ]\n",
    "full_img.shape\n",
    "df.keys()"
   ]
  },
  {
   "cell_type": "code",
   "execution_count": 39,
   "metadata": {},
   "outputs": [
    {
     "data": {
      "text/plain": [
       "<matplotlib.colorbar.Colorbar at 0x7f5dc32a5358>"
      ]
     },
     "execution_count": 39,
     "metadata": {},
     "output_type": "execute_result"
    },
    {
     "data": {
      "image/png": "[encoded data removed]",
      "text/plain": [
       "<Figure size 1440x1440 with 8 Axes>"
      ]
     },
     "metadata": {
      "needs_background": "light"
     },
     "output_type": "display_data"
    }
   ],
   "source": [
    "import numpy as np\n",
    "%matplotlib inline\n",
    "from matplotlib import pyplot as plt\n",
    "\n",
    "full_img = imgs_validation[[1], ]\n",
    "_, x, y, _ = full_img.shape\n",
    "\n",
    "cropx = 128\n",
    "cropy = 128\n",
    "\n",
    "data = np.zeros((240,240))\n",
    "data[0:cropx, 0:cropy] = 1\n",
    "tl = data\n",
    "\n",
    "data = np.zeros((240,240))\n",
    "data[0:cropx, y-cropy:y] = 1\n",
    "tr = data\n",
    "\n",
    "data = np.zeros((240,240))\n",
    "data[x-cropx:x, 0:cropy] = 1\n",
    "bl = data\n",
    "\n",
    "data = np.zeros((240,240))\n",
    "data[x-cropx:x, y-cropy:y] = 1\n",
    "br = data\n",
    "\n",
    "data = np.zeros((240,240))\n",
    "startx = x//2-(cropx//2)\n",
    "starty = y//2-(cropy//2)    \n",
    "data[starty:starty+cropy,startx:startx+cropx] = 1\n",
    "cc = data\n",
    "\n",
    "data = np.zeros((240,240))\n",
    "five_patch_divisor = tl + tr + bl + br + cc\n",
    "\n",
    "fig, axes = plt.subplots(3, 2, figsize=(10, 10))\n",
    "\n",
    "tl_fig = axes[0, 0].imshow(tl, cmap='tab10', interpolation='nearest')\n",
    "axes[0, 1].imshow(tr, cmap='tab10', interpolation='nearest')\n",
    "axes[1, 0].imshow(bl, cmap='tab10', interpolation='nearest')\n",
    "axes[1, 1].imshow(br, cmap='tab10', interpolation='nearest')\n",
    "axes[2, 0].imshow(cc, cmap='tab10', interpolation='nearest')\n",
    "five_patches_fig = axes[2, 1].imshow(five_patch_divisor, cmap='tab10', interpolation='nearest')\n",
    "\n",
    "fig.colorbar(tl_fig, ax=axes[0, 0])\n",
    "fig.colorbar(five_patches_fig, ax=axes[2, 1])\n"
   ]
  },
  {
   "cell_type": "code",
   "execution_count": 6,
   "metadata": {},
   "outputs": [],
   "source": [
    "def crop_tl(img, cropx, cropy):\n",
    "    _, x, y, _ = img.shape\n",
    "    return img[:, 0:cropx, 0:cropy]\n",
    "\n",
    "def crop_tr(img, cropx, cropy):\n",
    "    _, x, y, _ = img.shape\n",
    "    return img[:, 0:cropx, y-cropy:y]\n",
    "\n",
    "def crop_bl(img, cropx, cropy):\n",
    "    _, x, y, _ = img.shape\n",
    "    return img[:, x-cropx:x, 0:cropy]\n",
    "\n",
    "def crop_br(img, cropx, cropy):\n",
    "    _, x, y, _ = img.shape\n",
    "    return img[:, x-cropx:x, y-cropy:y]\n",
    "\n",
    "def crop_c(img, cropx, cropy):\n",
    "    _, y, x, _ = img.shape\n",
    "    startx = x//2-(cropx//2)\n",
    "    starty = y//2-(cropy//2)    \n",
    "    return img[:,starty:starty+cropy,startx:startx+cropx]\n",
    "\n",
    "def calc_dice_scores(pred_mask, msk):\n",
    "    dice_score = calc_dice(pred_mask, msk)\n",
    "    hard_dice_score = calc_hard_dice(pred_mask, msk)\n",
    "    return dice_score, hard_dice_score \n",
    "\n",
    "def print_avg_dice_scores(dice_results):\n",
    "    dice_results = np.asarray(dice_results)\n",
    "    avg_dice = np.average(dice_results[:,1])\n",
    "    avg_hard_dice = np.average(dice_results[:,2])\n",
    "    print(\"Avg Dice Score: {:.4f},\\nAvg Hard Dice Score: {:.4f}\".format(avg_dice, avg_hard_dice))    \n",
    "    "
   ]
  },
  {
   "cell_type": "code",
   "execution_count": 18,
   "metadata": {},
   "outputs": [
    {
     "name": "stderr",
     "output_type": "stream",
     "text": [
      "100%|██████████| 40/40 [00:05<00:00,  8.11it/s]\n",
      "  2%|▎         | 1/40 [00:00<00:05,  7.50it/s]"
     ]
    },
    {
     "name": "stdout",
     "output_type": "stream",
     "text": [
      "\n",
      "Threshold:  0.3\n",
      "dice_results_round_after_avg\n",
      "Avg Dice Score: 0.3384,\n",
      "Avg Hard Dice Score: 0.3308\n",
      "\n",
      "dice_results_round_before_avg\n",
      "Avg Dice Score: 0.8687,\n",
      "Avg Hard Dice Score: 0.8623\n"
     ]
    },
    {
     "name": "stderr",
     "output_type": "stream",
     "text": [
      "100%|██████████| 40/40 [00:05<00:00,  7.96it/s]\n",
      "  2%|▎         | 1/40 [00:00<00:04,  7.97it/s]"
     ]
    },
    {
     "name": "stdout",
     "output_type": "stream",
     "text": [
      "\n",
      "Threshold:  0.35\n",
      "dice_results_round_after_avg\n",
      "Avg Dice Score: 0.3384,\n",
      "Avg Hard Dice Score: 0.3308\n",
      "\n",
      "dice_results_round_before_avg\n",
      "Avg Dice Score: 0.8692,\n",
      "Avg Hard Dice Score: 0.8628\n"
     ]
    },
    {
     "name": "stderr",
     "output_type": "stream",
     "text": [
      "100%|██████████| 40/40 [00:05<00:00,  7.97it/s]\n",
      "  2%|▎         | 1/40 [00:00<00:04,  8.06it/s]"
     ]
    },
    {
     "name": "stdout",
     "output_type": "stream",
     "text": [
      "\n",
      "Threshold:  0.4\n",
      "dice_results_round_after_avg\n",
      "Avg Dice Score: 0.3384,\n",
      "Avg Hard Dice Score: 0.3308\n",
      "\n",
      "dice_results_round_before_avg\n",
      "Avg Dice Score: 0.8696,\n",
      "Avg Hard Dice Score: 0.8632\n"
     ]
    },
    {
     "name": "stderr",
     "output_type": "stream",
     "text": [
      "100%|██████████| 40/40 [00:05<00:00,  8.11it/s]\n",
      "  2%|▎         | 1/40 [00:00<00:05,  7.77it/s]"
     ]
    },
    {
     "name": "stdout",
     "output_type": "stream",
     "text": [
      "\n",
      "Threshold:  0.45\n",
      "dice_results_round_after_avg\n",
      "Avg Dice Score: 0.3384,\n",
      "Avg Hard Dice Score: 0.3308\n",
      "\n",
      "dice_results_round_before_avg\n",
      "Avg Dice Score: 0.8700,\n",
      "Avg Hard Dice Score: 0.8636\n"
     ]
    },
    {
     "name": "stderr",
     "output_type": "stream",
     "text": [
      "100%|██████████| 40/40 [00:04<00:00,  8.32it/s]\n",
      "  2%|▎         | 1/40 [00:00<00:04,  7.97it/s]"
     ]
    },
    {
     "name": "stdout",
     "output_type": "stream",
     "text": [
      "\n",
      "Threshold:  0.5\n",
      "dice_results_round_after_avg\n",
      "Avg Dice Score: 0.3384,\n",
      "Avg Hard Dice Score: 0.3308\n",
      "\n",
      "dice_results_round_before_avg\n",
      "Avg Dice Score: 0.8705,\n",
      "Avg Hard Dice Score: 0.8641\n"
     ]
    },
    {
     "name": "stderr",
     "output_type": "stream",
     "text": [
      "100%|██████████| 40/40 [00:05<00:00,  8.07it/s]\n",
      "  2%|▎         | 1/40 [00:00<00:04,  7.92it/s]"
     ]
    },
    {
     "name": "stdout",
     "output_type": "stream",
     "text": [
      "\n",
      "Threshold:  0.55\n",
      "dice_results_round_after_avg\n",
      "Avg Dice Score: 0.3384,\n",
      "Avg Hard Dice Score: 0.3308\n",
      "\n",
      "dice_results_round_before_avg\n",
      "Avg Dice Score: 0.8710,\n",
      "Avg Hard Dice Score: 0.8646\n"
     ]
    },
    {
     "name": "stderr",
     "output_type": "stream",
     "text": [
      "100%|██████████| 40/40 [00:05<00:00,  8.18it/s]\n",
      "  2%|▎         | 1/40 [00:00<00:04,  7.89it/s]"
     ]
    },
    {
     "name": "stdout",
     "output_type": "stream",
     "text": [
      "\n",
      "Threshold:  0.6\n",
      "dice_results_round_after_avg\n",
      "Avg Dice Score: 0.3384,\n",
      "Avg Hard Dice Score: 0.3308\n",
      "\n",
      "dice_results_round_before_avg\n",
      "Avg Dice Score: 0.8714,\n",
      "Avg Hard Dice Score: 0.8650\n"
     ]
    },
    {
     "name": "stderr",
     "output_type": "stream",
     "text": [
      "100%|██████████| 40/40 [00:05<00:00,  8.05it/s]\n",
      "  2%|▎         | 1/40 [00:00<00:04,  7.84it/s]"
     ]
    },
    {
     "name": "stdout",
     "output_type": "stream",
     "text": [
      "\n",
      "Threshold:  0.65\n",
      "dice_results_round_after_avg\n",
      "Avg Dice Score: 0.3384,\n",
      "Avg Hard Dice Score: 0.3308\n",
      "\n",
      "dice_results_round_before_avg\n",
      "Avg Dice Score: 0.8719,\n",
      "Avg Hard Dice Score: 0.8655\n"
     ]
    },
    {
     "name": "stderr",
     "output_type": "stream",
     "text": [
      "100%|██████████| 40/40 [00:05<00:00,  8.21it/s]\n",
      "  2%|▎         | 1/40 [00:00<00:04,  8.04it/s]"
     ]
    },
    {
     "name": "stdout",
     "output_type": "stream",
     "text": [
      "\n",
      "Threshold:  0.7\n",
      "dice_results_round_after_avg\n",
      "Avg Dice Score: 0.3384,\n",
      "Avg Hard Dice Score: 0.3308\n",
      "\n",
      "dice_results_round_before_avg\n",
      "Avg Dice Score: 0.8724,\n",
      "Avg Hard Dice Score: 0.8660\n"
     ]
    },
    {
     "name": "stderr",
     "output_type": "stream",
     "text": [
      "100%|██████████| 40/40 [00:04<00:00,  8.37it/s]\n",
      "  2%|▎         | 1/40 [00:00<00:04,  7.96it/s]"
     ]
    },
    {
     "name": "stdout",
     "output_type": "stream",
     "text": [
      "\n",
      "Threshold:  0.75\n",
      "dice_results_round_after_avg\n",
      "Avg Dice Score: 0.3384,\n",
      "Avg Hard Dice Score: 0.3308\n",
      "\n",
      "dice_results_round_before_avg\n",
      "Avg Dice Score: 0.8728,\n",
      "Avg Hard Dice Score: 0.8664\n"
     ]
    },
    {
     "name": "stderr",
     "output_type": "stream",
     "text": [
      "100%|██████████| 40/40 [00:05<00:00,  8.11it/s]\n",
      "  2%|▎         | 1/40 [00:00<00:04,  8.00it/s]"
     ]
    },
    {
     "name": "stdout",
     "output_type": "stream",
     "text": [
      "\n",
      "Threshold:  0.8\n",
      "dice_results_round_after_avg\n",
      "Avg Dice Score: 0.3384,\n",
      "Avg Hard Dice Score: 0.3308\n",
      "\n",
      "dice_results_round_before_avg\n",
      "Avg Dice Score: 0.8734,\n",
      "Avg Hard Dice Score: 0.8670\n"
     ]
    },
    {
     "name": "stderr",
     "output_type": "stream",
     "text": [
      "100%|██████████| 40/40 [00:04<00:00,  8.23it/s]\n",
      "  2%|▎         | 1/40 [00:00<00:04,  7.90it/s]"
     ]
    },
    {
     "name": "stdout",
     "output_type": "stream",
     "text": [
      "\n",
      "Threshold:  0.85\n",
      "dice_results_round_after_avg\n",
      "Avg Dice Score: 0.3384,\n",
      "Avg Hard Dice Score: 0.3308\n",
      "\n",
      "dice_results_round_before_avg\n",
      "Avg Dice Score: 0.8739,\n",
      "Avg Hard Dice Score: 0.8675\n"
     ]
    },
    {
     "name": "stderr",
     "output_type": "stream",
     "text": [
      "100%|██████████| 40/40 [00:05<00:00,  8.07it/s]"
     ]
    },
    {
     "name": "stdout",
     "output_type": "stream",
     "text": [
      "\n",
      "Threshold:  0.9\n",
      "dice_results_round_after_avg\n",
      "Avg Dice Score: 0.3384,\n",
      "Avg Hard Dice Score: 0.3308\n",
      "\n",
      "dice_results_round_before_avg\n",
      "Avg Dice Score: 0.8746,\n",
      "Avg Hard Dice Score: 0.8682\n"
     ]
    },
    {
     "name": "stderr",
     "output_type": "stream",
     "text": [
      "\n"
     ]
    }
   ],
   "source": [
    "from tqdm import tqdm\n",
    "\n",
    "cropx = 128\n",
    "cropy = 128\n",
    "\n",
    "def elwise_round_thres(arr, threshold):\n",
    "    arr[arr >= threshold] = 1\n",
    "    arr[arr < threshold] = 0\n",
    "    \n",
    "    return arr\n",
    "\n",
    "dice_results_round_after_avg = []\n",
    "dice_results_round_before_avg = []\n",
    "\n",
    "thresholds = [0.3, 0.4, 0.5, 0.6, 0.7, 0.8, 0.9] \n",
    "thresholds = [0.3, 0.4, 0.45, 0.5, 0.55, 0.6, 0.7, 0.8] \n",
    "#thresholds = [0.3] \n",
    "\n",
    "for threshold in thresholds:\n",
    "    for img_id in tqdm(range(240,280)):\n",
    "    #for img_id in tqdm(range(imgs_validation.shape[0])):\n",
    "\n",
    "        full_img = imgs_validation[[img_id], ]\n",
    "        full_msk = msks_validation[[img_id], ]\n",
    "        _, x, y, _ = full_img.shape\n",
    "\n",
    "        tl_img = crop_tl(full_img, cropx, cropy)\n",
    "        tl_msk = crop_tl(full_msk, cropx, cropy)\n",
    "\n",
    "        pred_tl_msk = model.predict(tl_img)\n",
    "        pred_tl_mask_placehld = np.zeros((240,240))\n",
    "        pred_tl_mask_placehld[0:cropx, 0:cropy]=pred_tl_msk[0][:,:,0]\n",
    "\n",
    "        tr_img = crop_tr(full_img, cropx, cropy)\n",
    "        tr_msk = crop_tr(full_msk, cropx, cropy)\n",
    "\n",
    "        pred_tr_msk = model.predict(tr_img)\n",
    "        pred_tr_mask_placehld = np.zeros((240,240))\n",
    "        pred_tr_mask_placehld[0:cropx, y-cropy:y]=pred_tr_msk[0][:,:,0]\n",
    "\n",
    "        bl_img = crop_bl(full_img, cropx, cropy)\n",
    "        bl_msk = crop_bl(full_msk, cropx, cropy)\n",
    "\n",
    "        pred_bl_msk = model.predict(bl_img)\n",
    "        pred_bl_mask_placehld = np.zeros((240,240))\n",
    "        pred_bl_mask_placehld[x-cropx:x, 0:cropy]=pred_bl_msk[0][:,:,0]\n",
    "\n",
    "        br_img = crop_br(full_img, cropx, cropy)\n",
    "        br_msk = crop_br(full_msk, cropx, cropy)\n",
    "\n",
    "        pred_br_msk = model.predict(br_img)\n",
    "        pred_br_mask_placehld = np.zeros((240,240))\n",
    "        pred_br_mask_placehld[x-cropx:x, y-cropy:y]=pred_br_msk[0][:,:,0]\n",
    "\n",
    "        cc_img = crop_c(full_img, cropx, cropy)\n",
    "        cc_msk = crop_c(full_msk, cropx, cropy)\n",
    "\n",
    "        pred_cc_msk = model.predict(cc_img)\n",
    "        pred_cc_mask_placehld = np.zeros((240,240))\n",
    "        startx = x//2-(cropx//2)\n",
    "        starty = y//2-(cropy//2)  \n",
    "        pred_cc_mask_placehld[startx:startx+cropx, starty:starty+cropy]=pred_cc_msk[0][:,:,0]\n",
    "\n",
    "        # Round after averaging\n",
    "        pred_full_msk = pred_tl_mask_placehld + pred_tr_mask_placehld + pred_bl_mask_placehld + pred_br_mask_placehld + pred_cc_mask_placehld\n",
    "        pred_full_msk_avg = pred_full_msk // five_patch_divisor\n",
    "        pred_full_msk_avg = elwise_round_thres(pred_full_msk_avg, threshold)\n",
    "\n",
    "        dice_score, hard_dice_score = calc_dice_scores(pred_full_msk_avg, full_msk)\n",
    "        dice_results_round_after_avg.append([img_id, dice_score, hard_dice_score])\n",
    "\n",
    "        # Round before averaging\n",
    "        pred_full_msk = []\n",
    "        pred_full_msk = elwise_round_thres(pred_tl_mask_placehld, threshold) + elwise_round_thres(pred_tr_mask_placehld, threshold) + elwise_round_thres(pred_bl_mask_placehld, threshold) + elwise_round_thres(pred_br_mask_placehld, threshold) + elwise_round_thres(pred_cc_mask_placehld, threshold)\n",
    "        pred_full_msk_avg = pred_full_msk // five_patch_divisor\n",
    "\n",
    "        dice_score, hard_dice_score = calc_dice_scores(pred_full_msk_avg, full_msk)\n",
    "        dice_results_round_before_avg.append([img_id, dice_score, hard_dice_score])\n",
    "\n",
    "    print(\"\\nThreshold: \", threshold)\n",
    "    print (\"dice_results_round_after_avg\")\n",
    "    print_avg_dice_scores(dice_results_round_after_avg)\n",
    "\n",
    "    print (\"\\ndice_results_round_before_avg\")\n",
    "    print_avg_dice_scores(dice_results_round_before_avg)\n"
   ]
  },
  {
   "cell_type": "code",
   "execution_count": 8,
   "metadata": {},
   "outputs": [
    {
     "name": "stderr",
     "output_type": "stream",
     "text": [
      "100%|██████████| 10/10 [00:01<00:00,  5.20it/s]"
     ]
    },
    {
     "name": "stdout",
     "output_type": "stream",
     "text": [
      "dice_results_round_after_avg\n",
      "Avg Dice Score: 0.2969,\n",
      "Avg Hard Dice Score: 0.2966\n",
      "\n",
      "dice_results_round_before_avg\n",
      "Avg Dice Score: 0.9248,\n",
      "Avg Hard Dice Score: 0.9248\n"
     ]
    },
    {
     "name": "stderr",
     "output_type": "stream",
     "text": [
      "\n"
     ]
    }
   ],
   "source": [
    "from tqdm import tqdm\n",
    "\n",
    "cropx = 128\n",
    "cropy = 128\n",
    "\n",
    "def elwise_round_thres(arr, threshold):\n",
    "    arr[arr >= threshold] = 1\n",
    "    arr[arr < threshold] = 0\n",
    "    \n",
    "    return arr\n",
    "\n",
    "elwise_round = np.vectorize(round, otypes=[np.int])\n",
    "\n",
    "dice_results_round_after_avg = []\n",
    "dice_results_round_before_avg = []\n",
    "\n",
    "for img_id in tqdm(range(240,250)):\n",
    "#for img_id in tqdm(range(imgs_validation.shape[0])):\n",
    "   \n",
    "    full_img = imgs_validation[[img_id], ]\n",
    "    full_msk = msks_validation[[img_id], ]\n",
    "    _, x, y, _ = full_img.shape\n",
    "    \n",
    "    tl_img = crop_tl(full_img, cropx, cropy)\n",
    "    tl_msk = crop_tl(full_msk, cropx, cropy)\n",
    "\n",
    "    pred_tl_msk = model.predict(tl_img)\n",
    "    pred_tl_mask_placehld = np.zeros((240,240))\n",
    "    pred_tl_mask_placehld[0:cropx, 0:cropy]=pred_tl_msk[0][:,:,0]\n",
    "\n",
    "    tr_img = crop_tr(full_img, cropx, cropy)\n",
    "    tr_msk = crop_tr(full_msk, cropx, cropy)\n",
    "\n",
    "    pred_tr_msk = model.predict(tr_img)\n",
    "    pred_tr_mask_placehld = np.zeros((240,240))\n",
    "    pred_tr_mask_placehld[0:cropx, y-cropy:y]=pred_tr_msk[0][:,:,0]\n",
    "\n",
    "    bl_img = crop_bl(full_img, cropx, cropy)\n",
    "    bl_msk = crop_bl(full_msk, cropx, cropy)\n",
    "\n",
    "    pred_bl_msk = model.predict(bl_img)\n",
    "    pred_bl_mask_placehld = np.zeros((240,240))\n",
    "    pred_bl_mask_placehld[x-cropx:x, 0:cropy]=pred_bl_msk[0][:,:,0]\n",
    "\n",
    "    br_img = crop_br(full_img, cropx, cropy)\n",
    "    br_msk = crop_br(full_msk, cropx, cropy)\n",
    "\n",
    "    pred_br_msk = model.predict(br_img)\n",
    "    pred_br_mask_placehld = np.zeros((240,240))\n",
    "    pred_br_mask_placehld[x-cropx:x, y-cropy:y]=pred_br_msk[0][:,:,0]\n",
    "\n",
    "    cc_img = crop_c(full_img, cropx, cropy)\n",
    "    cc_msk = crop_c(full_msk, cropx, cropy)\n",
    "\n",
    "    pred_cc_msk = model.predict(cc_img)\n",
    "    pred_cc_mask_placehld = np.zeros((240,240))\n",
    "    startx = x//2-(cropx//2)\n",
    "    starty = y//2-(cropy//2)  \n",
    "    pred_cc_mask_placehld[startx:startx+cropx, starty:starty+cropy]=pred_cc_msk[0][:,:,0]\n",
    "    \n",
    "    # Round after averaging\n",
    "    pred_full_msk = pred_tl_mask_placehld + pred_tr_mask_placehld + pred_bl_mask_placehld + pred_br_mask_placehld + pred_cc_mask_placehld\n",
    "    pred_full_msk_avg = pred_full_msk // five_patch_divisor\n",
    "    pred_full_msk_avg = elwise_round(pred_full_msk_avg)\n",
    "    \n",
    "    dice_score, hard_dice_score = calc_dice_scores(pred_full_msk_avg, full_msk)\n",
    "    dice_results_round_after_avg.append([img_id, dice_score, hard_dice_score])\n",
    "    \n",
    "    # Round before averaging\n",
    "    pred_full_msk = []\n",
    "    pred_full_msk = elwise_round(pred_tl_mask_placehld) + elwise_round(pred_tr_mask_placehld) + elwise_round(pred_bl_mask_placehld) + elwise_round(pred_br_mask_placehld) + elwise_round(pred_cc_mask_placehld)\n",
    "    pred_full_msk_avg = pred_full_msk // five_patch_divisor\n",
    "\n",
    "    dice_score, hard_dice_score = calc_dice_scores(pred_full_msk_avg, full_msk)\n",
    "    dice_results_round_before_avg.append([img_id, dice_score, hard_dice_score])\n",
    "\n",
    "print (\"dice_results_round_after_avg\")\n",
    "print_avg_dice_scores(dice_results_round_after_avg)\n",
    "\n",
    "print (\"\\ndice_results_round_before_avg\")\n",
    "print_avg_dice_scores(dice_results_round_before_avg)\n"
   ]
  },
  {
   "cell_type": "code",
   "execution_count": 8,
   "metadata": {},
   "outputs": [],
   "source": [
    "dice_results_round_after_avg_arr = np.asarray(dice_results_round_after_avg)\n",
    "np.savetxt(\"dice_results_round_after_avg_arr.csv\", dice_results_round_after_avg_arr, delimiter=\",\" )\n",
    "\n",
    "dice_results_round_before_avg_arr = np.asarray(dice_results_round_before_avg)\n",
    "np.savetxt(\"dice_results_round_before_avg_arr.csv\", dice_results_round_before_avg_arr, delimiter=\",\" )"
   ]
  },
  {
   "cell_type": "code",
   "execution_count": null,
   "metadata": {},
   "outputs": [],
   "source": [
    "import pandas as pd\n",
    "import pandas_profiling   \n",
    "\n",
    "elwise_round = np.vectorize(round, otypes=[np.int])\n",
    "rounded = (elwise_round(pred_tl_msk[0][:,:,0]))\n",
    "rounded_df= pd.DataFrame(rounded)\n",
    "rounded_df.describe(include='all')"
   ]
  },
  {
   "cell_type": "code",
   "execution_count": null,
   "metadata": {},
   "outputs": [],
   "source": []
  },
  {
   "cell_type": "code",
   "execution_count": null,
   "metadata": {},
   "outputs": [],
   "source": [
    "import seaborn as sns\n",
    "sns.set_style('darkgrid')\n",
    "sns.distplot(dice_results_round_after_avg_arr[:,1])\n",
    "sns.distplot(dice_results_round_after_avg_arr[:,2])"
   ]
  },
  {
   "cell_type": "code",
   "execution_count": null,
   "metadata": {},
   "outputs": [],
   "source": [
    "import pandas as pd\n",
    "import pandas_profiling\n",
    "dice_results_df= pd.DataFrame(dice_results)\n",
    "pandas_profiling.ProfileReport(dice_results_df)"
   ]
  },
  {
   "cell_type": "code",
   "execution_count": null,
   "metadata": {},
   "outputs": [],
   "source": []
  },
  {
   "cell_type": "code",
   "execution_count": null,
   "metadata": {},
   "outputs": [],
   "source": []
  },
  {
   "cell_type": "code",
   "execution_count": null,
   "metadata": {},
   "outputs": [],
   "source": []
  }
 ],
 "metadata": {
  "kernelspec": {
   "display_name": "Python 3",
   "language": "python",
   "name": "python3"
  },
  "language_info": {
   "codemirror_mode": {
    "name": "ipython",
    "version": 3
   },
   "file_extension": ".py",
   "mimetype": "text/x-python",
   "name": "python",
   "nbconvert_exporter": "python",
   "pygments_lexer": "ipython3",
   "version": "3.6.8"
  }
 },
 "nbformat": 4,
 "nbformat_minor": 2
}
