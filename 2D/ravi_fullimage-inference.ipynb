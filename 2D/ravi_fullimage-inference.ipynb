{
 "cells": [
  {
   "cell_type": "code",
   "execution_count": null,
   "metadata": {},
   "outputs": [],
   "source": []
  },
  {
   "cell_type": "code",
   "execution_count": 1,
   "metadata": {},
   "outputs": [],
   "source": [
    "# def calc_hard_dice(y_true, y_pred):\n",
    "#     numerator = 2.0 * np.sum(np.round(y_true)*np.round(y_pred))\n",
    "#     denominator = np.sum(np.round(y_true)) + np.sum(np.round(y_pred))\n",
    "#     if denominator == 0:\n",
    "#        return 1.0\n",
    "#     else:\n",
    "#        return numerator / denominator\n",
    "\n",
    "# def calc_dice(y_true, y_pred, smooth=1):\n",
    "#     \"\"\"\n",
    "#     Sorensen Dice coefficient\n",
    "#     \"\"\"\n",
    "#     numerator = 2.0 * np.sum(y_true * y_pred) + smooth\n",
    "#     denominator = np.sum(y_true) + np.sum(y_pred) + smooth\n",
    "#     coef = numerator / denominator\n",
    "    \n",
    "#     print (numerator, denominator, coef)\n",
    "\n",
    "#     return coef\n",
    "\n",
    "def calc_hard_dice(y_true, y_pred):\n",
    "    y_true = y_true.flatten()\n",
    "    y_pred = y_pred.flatten()\n",
    "    \n",
    "    numerator = 2.0 * np.sum(np.round(y_true)*np.round(y_pred))\n",
    "    denominator = np.sum(np.round(y_true)) + np.sum(np.round(y_pred))\n",
    "    if denominator == 0:\n",
    "       return 1.0\n",
    "    else:\n",
    "       return numerator / denominator\n",
    "\n",
    "def calc_dice(y_true, y_pred, smooth=1):\n",
    "    \"\"\"\n",
    "    Sorensen Dice coefficient\n",
    "    \"\"\"\n",
    "    y_true = y_true.flatten()\n",
    "    y_pred = y_pred.flatten()\n",
    "    \n",
    "    numerator = 2.0 * np.sum(y_true * y_pred) + smooth\n",
    "    denominator = np.sum(y_true) + np.sum(y_pred) + smooth\n",
    "    coef = numerator / denominator\n",
    "\n",
    "    return coef\n",
    "\n",
    "def dice_coef(y_true, y_pred, axis=(1, 2), smooth=1):\n",
    "    \"\"\"\n",
    "    Sorenson (Soft) Dice\n",
    "    \\frac{  2 \\times \\left | T \\right | \\cap \\left | P \\right |}{ \\left | T \\right | +  \\left | P \\right |  }\n",
    "    where T is ground truth mask and P is the prediction mask\n",
    "    \"\"\"\n",
    "    intersection = tf.reduce_sum(y_true * y_pred, axis=axis)\n",
    "    union = tf.reduce_sum(y_true + y_pred, axis=axis)\n",
    "    numerator = tf.constant(2.) * intersection + smooth\n",
    "    denominator = union + smooth\n",
    "    coef = numerator / denominator\n",
    "\n",
    "    return tf.reduce_mean(coef)\n",
    "\n",
    "def soft_dice_coef(target, prediction, axis=(1, 2), smooth=0.01):\n",
    "    \"\"\"\n",
    "    Sorenson (Soft) Dice  - Don't round the predictions\n",
    "    \\frac{  2 \\times \\left | T \\right | \\cap \\left | P \\right |}{ \\left | T \\right | +  \\left | P \\right |  }\n",
    "    where T is ground truth mask and P is the prediction mask\n",
    "    \"\"\"\n",
    "\n",
    "    intersection = tf.reduce_sum(target * prediction, axis=axis)\n",
    "    union = tf.reduce_sum(target + prediction, axis=axis)\n",
    "    numerator = tf.constant(2.) * intersection + smooth\n",
    "    denominator = union + smooth\n",
    "    coef = numerator / denominator\n",
    "\n",
    "    return tf.reduce_mean(coef)\n",
    "\n",
    "def dice_coef_loss(target, prediction, axis=(1, 2), smooth=1.):\n",
    "    \"\"\"\n",
    "    Sorenson (Soft) Dice loss\n",
    "    Using -log(Dice) as the loss since it is better behaved.\n",
    "    Also, the log allows avoidance of the division which\n",
    "    can help prevent underflow when the numbers are very small.\n",
    "    \"\"\"\n",
    "    intersection = tf.reduce_sum(prediction * target, axis=axis)\n",
    "    p = tf.reduce_sum(prediction, axis=axis)\n",
    "    t = tf.reduce_sum(target, axis=axis)\n",
    "    numerator = tf.reduce_mean(intersection + smooth)\n",
    "    denominator = tf.reduce_mean(t + p + smooth)\n",
    "    dice_loss = -tf.log(2.*numerator) + tf.log(denominator)\n",
    "\n",
    "    return dice_loss\n",
    "\n",
    "\n",
    "def combined_dice_ce_loss(y_true, y_pred, axis=(1, 2), smooth=1.,\n",
    "                          weight=0.9):\n",
    "    \"\"\"\n",
    "    Combined Dice and Binary Cross Entropy Loss\n",
    "    \"\"\"\n",
    "    return weight*dice_coef_loss(y_true, y_pred, axis, smooth) + \\\n",
    "        (1-weight)*K.losses.binary_crossentropy(y_true, y_pred)\n",
    "\n",
    "\n",
    "def plot_results(model, imgs_validation, msks_validation, img_no, png_directory):\n",
    "    \"\"\"\n",
    "    Calculate the Dice and plot the predicted masks for image # img_no\n",
    "    \"\"\"\n",
    "\n",
    "    img = imgs_validation[[img_no], ]\n",
    "    msk = msks_validation[[img_no], ]\n",
    "\n",
    "    pred_mask = model.predict(img)\n",
    "\n",
    "    dice_score = calc_dice(pred_mask, msk)\n",
    "\n",
    "    print(\"{:.4f}, {:.4f}\".format(dice_score, calc_hard_dice(pred_mask, msk)))\n"
   ]
  },
  {
   "cell_type": "code",
   "execution_count": 2,
   "metadata": {},
   "outputs": [
    {
     "name": "stderr",
     "output_type": "stream",
     "text": [
      "Using TensorFlow backend.\n"
     ]
    },
    {
     "name": "stdout",
     "output_type": "stream",
     "text": [
      "Loading Data... \n",
      "Data loaded successfully from: /home/bduser/tony/data/decathlon/240x240/decathlon_brats.h5\n",
      "Loading Model... \n",
      "Model loaded successfully from: /home/bduser/tony/unet_tiling/unet_decathlon_240x240_dice0820.hdf5\n"
     ]
    }
   ],
   "source": [
    "# parser = argparse.ArgumentParser(\n",
    "#     description=\"Inference example for trained 2D U-Net model on BraTS.\",\n",
    "#     add_help=True, formatter_class=argparse.ArgumentDefaultsHelpFormatter)\n",
    "\n",
    "# parser.add_argument(\"--data_path\", default=settings.DATA_PATH,\n",
    "#                     help=\"the path to the data\")\n",
    "# parser.add_argument(\"--data_filename\", default=settings.DATA_FILENAME,\n",
    "#                     help=\"the HDF5 data filename\")\n",
    "# parser.add_argument(\"--output_path\", default=settings.OUT_PATH,\n",
    "#                     help=\"the folder to save the model and checkpoints\")\n",
    "# parser.add_argument(\"--inference_filename\", default=settings.INFERENCE_FILENAME,\n",
    "#                     help=\"the Keras inference model filename\")\n",
    "\n",
    "# parser.add_argument(\"--intraop_threads\", default=settings.NUM_INTRA_THREADS,\n",
    "#                     type=int, help=\"Number of intra-op-parallelism threads\")\n",
    "# parser.add_argument(\"--interop_threads\", default=settings.NUM_INTER_THREADS,\n",
    "#                     type=int, help=\"Number of inter-op-parallelism threads\")\n",
    "import os\n",
    "\n",
    "import numpy as np\n",
    "import tensorflow as tf\n",
    "import keras as K\n",
    "import settings\n",
    "import argparse\n",
    "import h5py\n",
    "\n",
    "import matplotlib.pyplot as plt\n",
    "\n",
    "args = argparse.Namespace()\n",
    "args.data_path=\"/home/bduser/tony/data/decathlon/\"\n",
    "args.data_filename=\"240x240/decathlon_brats.h5\"\n",
    "args.output_path=\"/home/bduser/tony/unet_tiling/\"\n",
    "#args.inference_filename=\"unet_decathlon_4_8814_128x128_randomcrop.hdf5\"\n",
    "args.inference_filename=\"unet_decathlon_4_8814_128x128_randomcrop-any-input.h5\"\n",
    "args.inference_filename=\"unet_decathlon_240x240_dice0820.hdf5\"\n",
    "args.intraop_threads=5\n",
    "args.interop_threads=2\n",
    "\n",
    "CONFIG = tf.ConfigProto(\n",
    "    inter_op_parallelism_threads=args.interop_threads,\n",
    "    intra_op_parallelism_threads=args.intraop_threads)\n",
    "\n",
    "SESS = tf.Session(config=CONFIG)\n",
    "K.backend.set_session(SESS)\n",
    "\n",
    "data_fn = os.path.join(args.data_path, args.data_filename)\n",
    "model_fn = os.path.join(args.output_path, args.inference_filename)\n",
    "\n",
    "# Load data\n",
    "print(\"Loading Data... \")\n",
    "df = h5py.File(data_fn, \"r\")\n",
    "imgs_validation = df[\"imgs_validation\"]\n",
    "msks_validation = df[\"msks_validation\"]\n",
    "print(\"Data loaded successfully from: \" + data_fn)\n",
    "\n",
    "# Load model\n",
    "print(\"Loading Model... \")\n",
    "model = K.models.load_model(model_fn, custom_objects={\n",
    "    \"combined_dice_ce_loss\": combined_dice_ce_loss,\n",
    "    \"dice_coef_loss\": dice_coef_loss,\n",
    "    \"soft_dice_coef\": soft_dice_coef,\n",
    "    \"dice_coef\": dice_coef})\n",
    "print(\"Model loaded successfully from: \" + model_fn)\n",
    "\n",
    "# Create output directory for images\n",
    "png_directory = \"inference_examples\"\n",
    "if not os.path.exists(png_directory):\n",
    "    os.makedirs(png_directory)\n",
    "\n",
    "# Plot some results\n",
    "# The plots will be saved to the png_directory\n",
    "# Just picking some random samples.\n",
    "indicies_validation = [40, 61, 400, 1100, 4385,\n",
    "                       5566, 5673, 6433, 7864, 8899, 9003, 9722, 10591]\n",
    "\n",
    "\n"
   ]
  },
  {
   "cell_type": "code",
   "execution_count": 3,
   "metadata": {},
   "outputs": [
    {
     "name": "stdout",
     "output_type": "stream",
     "text": [
      "Number of validation images:  12090\n"
     ]
    }
   ],
   "source": [
    "\n",
    "print(\"Number of validation images: \", imgs_validation.shape[0])"
   ]
  },
  {
   "cell_type": "code",
   "execution_count": 4,
   "metadata": {},
   "outputs": [
    {
     "name": "stdout",
     "output_type": "stream",
     "text": [
      "Full image shape:  (1, 240, 240, 4)\n",
      "Full mask shape:  (1, 240, 240, 1)\n"
     ]
    }
   ],
   "source": [
    "img_no = 11\n",
    "full_img = imgs_validation[[img_no], ]\n",
    "full_msk = msks_validation[[img_no], ]\n",
    "print(\"Full image shape: \", full_img.shape)\n",
    "print(\"Full mask shape: \", full_msk.shape)"
   ]
  },
  {
   "cell_type": "code",
   "execution_count": 5,
   "metadata": {},
   "outputs": [
    {
     "name": "stdout",
     "output_type": "stream",
     "text": [
      "Pred mask shape:  (1, 240, 240, 1)\n",
      "Dice Score: 0.9999999999970315\n",
      "Hard Dice Score: 1.0\n"
     ]
    }
   ],
   "source": [
    "pred_mask = model.predict(full_img)\n",
    "print(\"Pred mask shape: \", pred_mask.shape)\n",
    "\n",
    "dice_score = calc_dice(pred_mask, full_msk)\n",
    "hard_dice_score = calc_hard_dice(pred_mask, full_msk)\n",
    "print(\"Dice Score:\", dice_score)\n",
    "print(\"Hard Dice Score:\", hard_dice_score)"
   ]
  },
  {
   "cell_type": "code",
   "execution_count": 6,
   "metadata": {},
   "outputs": [
    {
     "name": "stdout",
     "output_type": "stream",
     "text": [
      "__________________________________________________________________________________________________\n",
      "Layer (type)                    Output Shape         Param #     Connected to                     \n",
      "==================================================================================================\n",
      "MRImages (InputLayer)           (None, None, None, 4 0                                            \n",
      "__________________________________________________________________________________________________\n",
      "encodeAa (Conv2D)               (None, None, None, 3 1184        MRImages[0][0]                   \n",
      "__________________________________________________________________________________________________\n",
      "encodeAb (Conv2D)               (None, None, None, 3 9248        encodeAa[0][0]                   \n",
      "__________________________________________________________________________________________________\n",
      "poolA (MaxPooling2D)            (None, None, None, 3 0           encodeAb[0][0]                   \n",
      "__________________________________________________________________________________________________\n",
      "encodeBa (Conv2D)               (None, None, None, 6 18496       poolA[0][0]                      \n",
      "__________________________________________________________________________________________________\n",
      "encodeBb (Conv2D)               (None, None, None, 6 36928       encodeBa[0][0]                   \n",
      "__________________________________________________________________________________________________\n",
      "poolB (MaxPooling2D)            (None, None, None, 6 0           encodeBb[0][0]                   \n",
      "__________________________________________________________________________________________________\n",
      "encodeCa (Conv2D)               (None, None, None, 1 73856       poolB[0][0]                      \n",
      "__________________________________________________________________________________________________\n",
      "spatial_dropout2d_1 (SpatialDro (None, None, None, 1 0           encodeCa[0][0]                   \n",
      "__________________________________________________________________________________________________\n",
      "encodeCb (Conv2D)               (None, None, None, 1 147584      spatial_dropout2d_1[0][0]        \n",
      "__________________________________________________________________________________________________\n",
      "poolC (MaxPooling2D)            (None, None, None, 1 0           encodeCb[0][0]                   \n",
      "__________________________________________________________________________________________________\n",
      "encodeDa (Conv2D)               (None, None, None, 2 295168      poolC[0][0]                      \n",
      "__________________________________________________________________________________________________\n",
      "spatial_dropout2d_2 (SpatialDro (None, None, None, 2 0           encodeDa[0][0]                   \n",
      "__________________________________________________________________________________________________\n",
      "encodeDb (Conv2D)               (None, None, None, 2 590080      spatial_dropout2d_2[0][0]        \n",
      "__________________________________________________________________________________________________\n",
      "poolD (MaxPooling2D)            (None, None, None, 2 0           encodeDb[0][0]                   \n",
      "__________________________________________________________________________________________________\n",
      "encodeEa (Conv2D)               (None, None, None, 5 1180160     poolD[0][0]                      \n",
      "__________________________________________________________________________________________________\n",
      "encodeEb (Conv2D)               (None, None, None, 5 2359808     encodeEa[0][0]                   \n",
      "__________________________________________________________________________________________________\n",
      "upE (UpSampling2D)              (None, None, None, 5 0           encodeEb[0][0]                   \n",
      "__________________________________________________________________________________________________\n",
      "concatD (Concatenate)           (None, None, None, 7 0           upE[0][0]                        \n",
      "                                                                 encodeDb[0][0]                   \n",
      "__________________________________________________________________________________________________\n",
      "decodeCa (Conv2D)               (None, None, None, 2 1769728     concatD[0][0]                    \n",
      "__________________________________________________________________________________________________\n",
      "decodeCb (Conv2D)               (None, None, None, 2 590080      decodeCa[0][0]                   \n",
      "__________________________________________________________________________________________________\n",
      "upC (UpSampling2D)              (None, None, None, 2 0           decodeCb[0][0]                   \n",
      "__________________________________________________________________________________________________\n",
      "concatC (Concatenate)           (None, None, None, 3 0           upC[0][0]                        \n",
      "                                                                 encodeCb[0][0]                   \n",
      "__________________________________________________________________________________________________\n",
      "decodeBa (Conv2D)               (None, None, None, 1 442496      concatC[0][0]                    \n",
      "__________________________________________________________________________________________________\n",
      "decodeBb (Conv2D)               (None, None, None, 1 147584      decodeBa[0][0]                   \n",
      "__________________________________________________________________________________________________\n",
      "upB (UpSampling2D)              (None, None, None, 1 0           decodeBb[0][0]                   \n",
      "__________________________________________________________________________________________________\n",
      "concatB (Concatenate)           (None, None, None, 1 0           upB[0][0]                        \n",
      "                                                                 encodeBb[0][0]                   \n",
      "__________________________________________________________________________________________________\n",
      "decodeAa (Conv2D)               (None, None, None, 6 110656      concatB[0][0]                    \n",
      "__________________________________________________________________________________________________\n",
      "decodeAb (Conv2D)               (None, None, None, 6 36928       decodeAa[0][0]                   \n",
      "__________________________________________________________________________________________________\n",
      "upA (UpSampling2D)              (None, None, None, 6 0           decodeAb[0][0]                   \n",
      "__________________________________________________________________________________________________\n",
      "concatA (Concatenate)           (None, None, None, 9 0           upA[0][0]                        \n",
      "                                                                 encodeAb[0][0]                   \n",
      "__________________________________________________________________________________________________\n",
      "convOuta (Conv2D)               (None, None, None, 3 27680       concatA[0][0]                    \n",
      "__________________________________________________________________________________________________\n",
      "convOutb (Conv2D)               (None, None, None, 3 9248        convOuta[0][0]                   \n",
      "__________________________________________________________________________________________________\n",
      "PredictionMask (Conv2D)         (None, None, None, 1 33          convOutb[0][0]                   \n",
      "==================================================================================================\n",
      "Total params: 7,846,945\n",
      "Trainable params: 7,846,945\n",
      "Non-trainable params: 0\n",
      "__________________________________________________________________________________________________\n"
     ]
    }
   ],
   "source": [
    "model.summary()"
   ]
  },
  {
   "cell_type": "code",
   "execution_count": 7,
   "metadata": {},
   "outputs": [],
   "source": [
    "def calc_dice_scores(pred_mask, msk):\n",
    "    dice_score = calc_dice(pred_mask, msk)\n",
    "    hard_dice_score = calc_hard_dice(pred_mask, msk)\n",
    "    return dice_score, hard_dice_score \n",
    "\n",
    "def print_avg_dice_scores(dice_results):\n",
    "    dice_results = np.asarray(dice_results)\n",
    "    avg_dice = np.average(dice_results[:,1])\n",
    "    avg_hard_dice = np.average(dice_results[:,2])\n",
    "    print(\"Avg Dice Score: {:.4f},\\nAvg Hard Dice Score: {:.4f}\".format(avg_dice, avg_hard_dice))    \n",
    "    "
   ]
  },
  {
   "cell_type": "code",
   "execution_count": 8,
   "metadata": {},
   "outputs": [
    {
     "name": "stderr",
     "output_type": "stream",
     "text": [
      "100%|██████████| 12090/12090 [15:55<00:00, 13.92it/s]"
     ]
    },
    {
     "name": "stdout",
     "output_type": "stream",
     "text": [
      "Avg Dice Score: 0.8396,\n",
      "Avg Hard Dice Score: 0.8360\n"
     ]
    },
    {
     "name": "stderr",
     "output_type": "stream",
     "text": [
      "\n"
     ]
    }
   ],
   "source": [
    "from tqdm import tqdm\n",
    "\n",
    "dice_results = []\n",
    "#for img_id in tqdm(range(240,280)):\n",
    "for img_id in tqdm(range(imgs_validation.shape[0])):\n",
    "\n",
    "    full_img = imgs_validation[[img_id], ]\n",
    "    full_msk = msks_validation[[img_id], ]\n",
    "    \n",
    "    pred_mask = model.predict(full_img)\n",
    "    dice_score, hard_dice_score = calc_dice_scores(pred_mask, full_msk)\n",
    "    dice_results.append([img_id, dice_score, hard_dice_score])\n",
    "\n",
    "print_avg_dice_scores (dice_results) \n"
   ]
  },
  {
   "cell_type": "code",
   "execution_count": null,
   "metadata": {},
   "outputs": [],
   "source": []
  },
  {
   "cell_type": "code",
   "execution_count": null,
   "metadata": {},
   "outputs": [],
   "source": []
  },
  {
   "cell_type": "code",
   "execution_count": null,
   "metadata": {},
   "outputs": [],
   "source": []
  }
 ],
 "metadata": {
  "kernelspec": {
   "display_name": "Python 3",
   "language": "python",
   "name": "python3"
  },
  "language_info": {
   "codemirror_mode": {
    "name": "ipython",
    "version": 3
   },
   "file_extension": ".py",
   "mimetype": "text/x-python",
   "name": "python",
   "nbconvert_exporter": "python",
   "pygments_lexer": "ipython3",
   "version": "3.6.8"
  }
 },
 "nbformat": 4,
 "nbformat_minor": 2
}
